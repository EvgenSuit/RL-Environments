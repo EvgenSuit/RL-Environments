{
 "cells": [
  {
   "cell_type": "code",
   "execution_count": 1,
   "metadata": {},
   "outputs": [],
   "source": [
    "import gym\n",
    "from gym.envs.toy_text.utils import categorical_sample\n",
    "import numpy as np"
   ]
  },
  {
   "cell_type": "code",
   "execution_count": 2,
   "metadata": {},
   "outputs": [],
   "source": [
    "LEFT = 0\n",
    "DOWN = 1\n",
    "RIGHT = 2\n",
    "UP = 3"
   ]
  },
  {
   "cell_type": "code",
   "execution_count": 62,
   "metadata": {},
   "outputs": [],
   "source": [
    "\n",
    "\n",
    "class FrozenLakeEnv(gym.Env):\n",
    "    def __init__(self):\n",
    "        self.map = map = np.array(['SFFF',\n",
    "                                   'TFFH',\n",
    "                                   'HFFG'], dtype='c')\n",
    "        self.n_rows, self.n_cols = n_rows, n_cols = map.shape\n",
    "        nS = n_rows * n_cols\n",
    "        nA = 4\n",
    "        self.s = 0\n",
    "        teleport_locs = (map == b'T').astype('float').flatten()\n",
    "        print(teleport_locs)\n",
    "\n",
    "        def to_s(row, col):\n",
    "            return row * n_cols + col\n",
    "        \n",
    "        def from_s(s):\n",
    "            return \n",
    "\n",
    "        def transition(row, col, a):\n",
    "            if a == LEFT:\n",
    "                col = max(col - 1, 0)\n",
    "            if a == DOWN:\n",
    "                row = min(row + 1, n_rows - 1)\n",
    "            if a == RIGHT:\n",
    "                col = min(col + 1, n_cols - 1)\n",
    "            if a == UP:\n",
    "                row = max(row - 1, 0)\n",
    "            return row, col\n",
    "\n",
    "        def update_probability_matrix(row, col, a):\n",
    "            new_row, new_col = transition(row, col, a)\n",
    "            \n",
    "            new_s = to_s(new_row, new_col)\n",
    "            \n",
    "            new_letter = map[new_row, new_col]\n",
    "            terminated =  new_letter in b'HG'\n",
    "            reward = float(new_letter == b'G')\n",
    "            return new_s, reward, terminated\n",
    "\n",
    "        self.s_a_pairs = s_a_pairs = {s: {a: [] for a in range(nA)} for s in range(nS)}\n",
    "        for row in range(n_rows):\n",
    "            for col in range(n_cols):\n",
    "                s = to_s(row, col)\n",
    "                for a in range(nA):\n",
    "                    pair = s_a_pairs[s][a]\n",
    "                    letter = map[row, col]\n",
    "                    if letter in b'HG':\n",
    "                        pair.append((1.0, s, 0, True))\n",
    "                    if letter == b'T':\n",
    "                        all_s_array = np.arange(n_rows * n_cols)\n",
    "                        random_s = np.random.choice(all_s_array)\n",
    "                        \n",
    "                        pair.append((1.0, random_s, 0, map.flatten()[random_s] in b'GH'))\n",
    "                    else:\n",
    "                        for b in [(a - 1) % 4, a, (a + 1) % 4]:\n",
    "                            pair.append((1 / 3, *update_probability_matrix(row, col, b)))\n",
    "    def step(self, a):\n",
    "        transitions = self.s_a_pairs[self.s][a]\n",
    "        i = categorical_sample([t[0] for t in transitions], self.np_random)\n",
    "        \n",
    "        p, s, r, t = transitions[i]\n",
    "        self.s = s\n",
    "        \n",
    "        return p, s, r, t\n",
    "        \n"
   ]
  },
  {
   "cell_type": "code",
   "execution_count": 71,
   "metadata": {},
   "outputs": [
    {
     "name": "stdout",
     "output_type": "stream",
     "text": [
      "[0. 0. 0. 0. 1. 0. 0. 0. 0. 0. 0. 0.]\n",
      "(0.3333333333333333, 1, 0.0, False)\n",
      "(0.3333333333333333, 0, 0.0, False)\n",
      "(0.3333333333333333, 0, 0.0, False)\n",
      "(0.3333333333333333, 4, 0.0, False)\n",
      "(1.0, 8, 0, True)\n",
      "(1.0, 8, 0, True)\n",
      "(1.0, 8, 0, True)\n",
      "(1.0, 8, 0, True)\n",
      "(1.0, 8, 0, True)\n",
      "(1.0, 8, 0, True)\n"
     ]
    }
   ],
   "source": [
    "env = FrozenLakeEnv()\n",
    "for i in range(10):\n",
    "    print(env.step(1))"
   ]
  },
  {
   "cell_type": "code",
   "execution_count": null,
   "metadata": {},
   "outputs": [],
   "source": []
  },
  {
   "cell_type": "code",
   "execution_count": null,
   "metadata": {},
   "outputs": [],
   "source": []
  }
 ],
 "metadata": {
  "kernelspec": {
   "display_name": "Python 3.9.0 64-bit",
   "language": "python",
   "name": "python3"
  },
  "language_info": {
   "codemirror_mode": {
    "name": "ipython",
    "version": 3
   },
   "file_extension": ".py",
   "mimetype": "text/x-python",
   "name": "python",
   "nbconvert_exporter": "python",
   "pygments_lexer": "ipython3",
   "version": "3.9.0"
  },
  "orig_nbformat": 4,
  "vscode": {
   "interpreter": {
    "hash": "7117d9a525bb44eade3dee4a6b28952fd03b659257539a8893e8967f789f063d"
   }
  }
 },
 "nbformat": 4,
 "nbformat_minor": 2
}
